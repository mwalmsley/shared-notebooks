{
 "cells": [
  {
   "cell_type": "code",
   "execution_count": 1,
   "metadata": {},
   "outputs": [],
   "source": [
    "%load_ext autoreload\n",
    "%autoreload 2\n",
    "%matplotlib inline"
   ]
  },
  {
   "cell_type": "code",
   "execution_count": 149,
   "metadata": {},
   "outputs": [],
   "source": [
    "import pandas as pd\n",
    "import numpy as np\n",
    "\n",
    "import matplotlib\n",
    "# matplotlib.use('Agg')\n",
    "import matplotlib.pyplot as plt\n",
    "import seaborn as sns\n",
    "sns.set_context('notebook')\n",
    "sns.set()"
   ]
  },
  {
   "cell_type": "markdown",
   "metadata": {},
   "source": [
    "# Catalog Investigations"
   ]
  },
  {
   "cell_type": "markdown",
   "metadata": {},
   "source": [
    "Motivated by mysterious bugs classifying bars with my active learning work, I took a hard look at the GZ2 catalog itself. \n",
    "\n",
    "**I found that the catalog is not homogenous**: galaxies higher up in the catalog (rows 0, 1, 2...) are more featured than galaxies lower down.\n",
    "\n",
    "Below are my results. The catalog is `gz2_hart16.csv`, as published on data.galaxyzoo.org, with a few extra columns added.\n",
    "\n",
    "What's going on?"
   ]
  },
  {
   "cell_type": "markdown",
   "metadata": {},
   "source": [
    "#### Load Catalog"
   ]
  },
  {
   "cell_type": "code",
   "execution_count": 150,
   "metadata": {},
   "outputs": [],
   "source": [
    "gz2_catalog_loc = '/data/galaxy_zoo/gz2/catalogs/gz2_classifications_and_subjects.csv'  # replace this with your own catalog if desired\n",
    "catalog = pd.read_csv(gz2_catalog_loc)"
   ]
  },
  {
   "cell_type": "code",
   "execution_count": 151,
   "metadata": {},
   "outputs": [
    {
     "data": {
      "text/html": [
       "<div>\n",
       "<style scoped>\n",
       "    .dataframe tbody tr th:only-of-type {\n",
       "        vertical-align: middle;\n",
       "    }\n",
       "\n",
       "    .dataframe tbody tr th {\n",
       "        vertical-align: top;\n",
       "    }\n",
       "\n",
       "    .dataframe thead th {\n",
       "        text-align: right;\n",
       "    }\n",
       "</style>\n",
       "<table border=\"1\" class=\"dataframe\">\n",
       "  <thead>\n",
       "    <tr style=\"text-align: right;\">\n",
       "      <th></th>\n",
       "      <th>dr7objid</th>\n",
       "      <th>ra_subject</th>\n",
       "      <th>dec_subject</th>\n",
       "      <th>rastring</th>\n",
       "      <th>decstring</th>\n",
       "      <th>sample</th>\n",
       "      <th>gz2_class</th>\n",
       "      <th>total_classifications</th>\n",
       "      <th>total_votes</th>\n",
       "      <th>t01_smooth_or_features_a01_smooth_count</th>\n",
       "      <th>...</th>\n",
       "      <th>redshift_bin</th>\n",
       "      <th>magsize_bin</th>\n",
       "      <th>battle_bin</th>\n",
       "      <th>ra</th>\n",
       "      <th>dec</th>\n",
       "      <th>stripe82</th>\n",
       "      <th>stripe82_coadd</th>\n",
       "      <th>extra_original</th>\n",
       "      <th>png_loc</th>\n",
       "      <th>png_ready</th>\n",
       "    </tr>\n",
       "  </thead>\n",
       "  <tbody>\n",
       "    <tr>\n",
       "      <th>0</th>\n",
       "      <td>587732591714893851</td>\n",
       "      <td>179.042984</td>\n",
       "      <td>60.522518</td>\n",
       "      <td>11:56:10.32</td>\n",
       "      <td>+60:31:21.1</td>\n",
       "      <td>original</td>\n",
       "      <td>Sc+t</td>\n",
       "      <td>45</td>\n",
       "      <td>342</td>\n",
       "      <td>0</td>\n",
       "      <td>...</td>\n",
       "      <td>2</td>\n",
       "      <td>0</td>\n",
       "      <td>2</td>\n",
       "      <td>179.042984</td>\n",
       "      <td>60.522518</td>\n",
       "      <td>0</td>\n",
       "      <td>0</td>\n",
       "      <td>0</td>\n",
       "      <td>/Volumes/alpha/gz2/png/587732/5877325917148938...</td>\n",
       "      <td>True</td>\n",
       "    </tr>\n",
       "    <tr>\n",
       "      <th>1</th>\n",
       "      <td>588009368545984617</td>\n",
       "      <td>135.084396</td>\n",
       "      <td>52.494240</td>\n",
       "      <td>09:00:20.26</td>\n",
       "      <td>+52:29:39.3</td>\n",
       "      <td>original</td>\n",
       "      <td>Sb+t</td>\n",
       "      <td>42</td>\n",
       "      <td>332</td>\n",
       "      <td>1</td>\n",
       "      <td>...</td>\n",
       "      <td>2</td>\n",
       "      <td>78</td>\n",
       "      <td>78002</td>\n",
       "      <td>135.084396</td>\n",
       "      <td>52.494240</td>\n",
       "      <td>0</td>\n",
       "      <td>0</td>\n",
       "      <td>0</td>\n",
       "      <td>/Volumes/alpha/gz2/png/588009/5880093685459846...</td>\n",
       "      <td>True</td>\n",
       "    </tr>\n",
       "  </tbody>\n",
       "</table>\n",
       "<p>2 rows × 252 columns</p>\n",
       "</div>"
      ],
      "text/plain": [
       "             dr7objid  ra_subject  dec_subject     rastring    decstring  \\\n",
       "0  587732591714893851  179.042984    60.522518  11:56:10.32  +60:31:21.1   \n",
       "1  588009368545984617  135.084396    52.494240  09:00:20.26  +52:29:39.3   \n",
       "\n",
       "     sample gz2_class  total_classifications  total_votes  \\\n",
       "0  original      Sc+t                     45          342   \n",
       "1  original      Sb+t                     42          332   \n",
       "\n",
       "   t01_smooth_or_features_a01_smooth_count    ...      redshift_bin  \\\n",
       "0                                        0    ...                 2   \n",
       "1                                        1    ...                 2   \n",
       "\n",
       "   magsize_bin  battle_bin          ra        dec  stripe82  stripe82_coadd  \\\n",
       "0            0           2  179.042984  60.522518         0               0   \n",
       "1           78       78002  135.084396  52.494240         0               0   \n",
       "\n",
       "   extra_original                                            png_loc  \\\n",
       "0               0  /Volumes/alpha/gz2/png/587732/5877325917148938...   \n",
       "1               0  /Volumes/alpha/gz2/png/588009/5880093685459846...   \n",
       "\n",
       "   png_ready  \n",
       "0       True  \n",
       "1       True  \n",
       "\n",
       "[2 rows x 252 columns]"
      ]
     },
     "execution_count": 151,
     "metadata": {},
     "output_type": "execute_result"
    }
   ],
   "source": [
    "catalog.head(2)"
   ]
  },
  {
   "cell_type": "markdown",
   "metadata": {},
   "source": [
    "### Derive Useful Columns"
   ]
  },
  {
   "cell_type": "code",
   "execution_count": 152,
   "metadata": {},
   "outputs": [],
   "source": [
    "catalog['smooth-or-featured_total-votes'] = catalog['t01_smooth_or_features_a01_smooth_count'] + catalog['t01_smooth_or_features_a02_features_or_disk_count'] + catalog['t01_smooth_or_features_a03_star_or_artifact_count']\n",
    "catalog['smooth-or-featured_featured-fraction'] = catalog['t01_smooth_or_features_a02_features_or_disk_count']/catalog['smooth-or-featured_total-votes']"
   ]
  },
  {
   "cell_type": "markdown",
   "metadata": {},
   "source": [
    "### Where is Each Sample?"
   ]
  },
  {
   "cell_type": "code",
   "execution_count": 153,
   "metadata": {},
   "outputs": [
    {
     "data": {
      "text/plain": [
       "Text(0,0.5,'Galaxies')"
      ]
     },
     "execution_count": 153,
     "metadata": {},
     "output_type": "execute_result"
    },
    {
     "data": {
      "image/png": "[encoded data removed]",
      "text/plain": [
       "<Figure size 432x288 with 1 Axes>"
      ]
     },
     "metadata": {},
     "output_type": "display_data"
    }
   ],
   "source": [
    "fig, ax = plt.subplots()\n",
    "alpha = 0.4\n",
    "bins = 40\n",
    "extra = catalog[catalog['sample'] == 'extra']\n",
    "stripe = catalog[catalog['sample'] == 'stripe82']\n",
    "original = catalog[catalog['sample'] == 'original']\n",
    "ax.hist(original.index, label='Original', alpha=alpha, bins=bins)\n",
    "ax.hist(stripe.index, label='Stripe82', alpha=alpha, bins=bins)\n",
    "ax.hist(extra.index, label='Extra', alpha=alpha, bins=bins)\n",
    "ax.legend()\n",
    "ax.set_xlabel('Row')\n",
    "ax.set_ylabel('Galaxies')"
   ]
  },
  {
   "cell_type": "markdown",
   "metadata": {},
   "source": [
    "The original sample dominates throughout, but the extra sample becomes important in the last ~20,000 rows.\n",
    "\n",
    "For simplicity, let's look only at the original sample for now."
   ]
  },
  {
   "cell_type": "markdown",
   "metadata": {},
   "source": [
    "### How many Classifications by Row?"
   ]
  },
  {
   "cell_type": "code",
   "execution_count": 154,
   "metadata": {},
   "outputs": [
    {
     "data": {
      "image/png": "[encoded data removed]",
      "text/plain": [
       "<Figure size 432x288 with 1 Axes>"
      ]
     },
     "metadata": {},
     "output_type": "display_data"
    }
   ],
   "source": [
    "fig, ax = plt.subplots()\n",
    "ax.hist2d(original.index, original['smooth-or-featured_total-votes'], bins=[40, 30])\n",
    "ax.set_ylim([30, 55])\n",
    "ax.grid(False)"
   ]
  },
  {
   "cell_type": "code",
   "execution_count": 155,
   "metadata": {},
   "outputs": [
    {
     "data": {
      "text/plain": [
       "(16, 79)"
      ]
     },
     "execution_count": 155,
     "metadata": {},
     "output_type": "execute_result"
    }
   ],
   "source": [
    "original['smooth-or-featured_total-votes'].min(), original['smooth-or-featured_total-votes'].max()"
   ]
  },
  {
   "cell_type": "markdown",
   "metadata": {},
   "source": [
    "Most galaxies have ~40 responses to the first question, as expected.\n",
    "\n",
    "Something weird is happening at the end. That's worth a discussion in it's own right, but **let's totally ignore it for now.**\n",
    "\n",
    "Let's trim off the weird end for simplicity.\n",
    "Let's also remove the handful of galaxies with wildly low vote fractions, just in case."
   ]
  },
  {
   "cell_type": "code",
   "execution_count": 156,
   "metadata": {},
   "outputs": [
    {
     "data": {
      "text/plain": [
       "(30, 73)"
      ]
     },
     "execution_count": 156,
     "metadata": {},
     "output_type": "execute_result"
    }
   ],
   "source": [
    "original_trimmed = original[:190000]\n",
    "original_trimmed = original_trimmed[original_trimmed['smooth-or-featured_total-votes'] >= 30]\n",
    "original_trimmed['smooth-or-featured_total-votes'].min(), original_trimmed['smooth-or-featured_total-votes'].max()"
   ]
  },
  {
   "cell_type": "markdown",
   "metadata": {},
   "source": [
    "### How Featured are the Galaxies?"
   ]
  },
  {
   "cell_type": "code",
   "execution_count": 157,
   "metadata": {},
   "outputs": [
    {
     "data": {
      "text/plain": [
       "(array([58690., 45246., 19809., 12045.,  9540.,  9038.,  7215.,  6808.,\n",
       "         7674., 11658.]),\n",
       " array([0. , 0.1, 0.2, 0.3, 0.4, 0.5, 0.6, 0.7, 0.8, 0.9, 1. ]),\n",
       " <a list of 10 Patch objects>)"
      ]
     },
     "execution_count": 157,
     "metadata": {},
     "output_type": "execute_result"
    },
    {
     "data": {
      "image/png": "[encoded data removed]",
      "text/plain": [
       "<Figure size 432x288 with 1 Axes>"
      ]
     },
     "metadata": {},
     "output_type": "display_data"
    }
   ],
   "source": [
    "fig, ax = plt.subplots()\n",
    "ax.hist(original_trimmed['smooth-or-featured_featured-fraction'])"
   ]
  },
  {
   "cell_type": "markdown",
   "metadata": {},
   "source": [
    "So far so good. Here's where things get really weird..."
   ]
  },
  {
   "cell_type": "markdown",
   "metadata": {},
   "source": [
    "### Are the Featured galaxies evenly spread throughout (spoiler: no)"
   ]
  },
  {
   "cell_type": "code",
   "execution_count": 158,
   "metadata": {},
   "outputs": [
    {
     "data": {
      "image/png": "[encoded data removed]",
      "text/plain": [
       "<Figure size 432x288 with 1 Axes>"
      ]
     },
     "metadata": {},
     "output_type": "display_data"
    }
   ],
   "source": [
    "fig, ax = plt.subplots()\n",
    "\n",
    "ax.hist2d(original_trimmed.index, original_trimmed['smooth-or-featured_featured-fraction'], bins=[40, 20])\n",
    "ax.set_xlabel('Catalog Index')\n",
    "ax.set_ylabel('Featured fraction')\n",
    "ax.grid(False)"
   ]
  },
  {
   "cell_type": "markdown",
   "metadata": {},
   "source": [
    "That's odd: the most featured galaxies are higher in the catalog!\n",
    "\n",
    "Let's zoom in a bit to see the pattern better, cutting off the common smooth galaxy mode."
   ]
  },
  {
   "cell_type": "code",
   "execution_count": 159,
   "metadata": {},
   "outputs": [
    {
     "data": {
      "image/png": "[encoded data removed]",
      "text/plain": [
       "<Figure size 432x288 with 1 Axes>"
      ]
     },
     "metadata": {},
     "output_type": "display_data"
    }
   ],
   "source": [
    "featured = original_trimmed[['smooth-or-featured_featured-fraction', 'smooth-or-featured_total-votes']].copy()\n",
    "featured['smooth-or-featured_featured-fraction'] = featured[featured['smooth-or-featured_featured-fraction'] > 0.2]\n",
    "featured['smooth-or-featured_featured-fraction'] = featured[featured['smooth-or-featured_featured-fraction'] < .95]\n",
    "featured = featured.dropna()\n",
    "fig, ax = plt.subplots()\n",
    "_ = ax.hist2d(featured.index, featured['smooth-or-featured_featured-fraction'], bins=[40, 20])\n",
    "ax.set_xlabel('Catalog Index')\n",
    "ax.set_ylabel('Featured fraction')\n",
    "ax.grid(False)"
   ]
  },
  {
   "cell_type": "markdown",
   "metadata": {},
   "source": [
    "This is after:\n",
    "    - selecting only the original sample\n",
    "    - excluding the strange final rows\n",
    "    - excluding galaxies with low total votes (almost all are 35-45)"
   ]
  },
  {
   "cell_type": "markdown",
   "metadata": {},
   "source": [
    "**What's going on?? Help me out, science team!**"
   ]
  },
  {
   "cell_type": "code",
   "execution_count": null,
   "metadata": {},
   "outputs": [],
   "source": []
  }
 ],
 "metadata": {
  "kernelspec": {
   "display_name": "Python 3",
   "language": "python",
   "name": "python3"
  },
  "language_info": {
   "codemirror_mode": {
    "name": "ipython",
    "version": 3
   },
   "file_extension": ".py",
   "mimetype": "text/x-python",
   "name": "python",
   "nbconvert_exporter": "python",
   "pygments_lexer": "ipython3",
   "version": "3.6.7"
  }
 },
 "nbformat": 4,
 "nbformat_minor": 2
}
